{
 "cells": [
  {
   "cell_type": "markdown",
   "metadata": {},
   "source": [
    "Import Our Libraries"
   ]
  },
  {
   "cell_type": "code",
   "execution_count": 6,
   "metadata": {},
   "outputs": [],
   "source": [
    "import openpyxl\n",
    "import json\n",
    "from pathlib import Path\n",
    "import os\n",
    "from typing import List\n",
    "import openpyxl.workbook\n",
    "import pandas as pd"
   ]
  },
  {
   "cell_type": "markdown",
   "metadata": {},
   "source": [
    "Define Our Parsing Functions"
   ]
  },
  {
   "cell_type": "code",
   "execution_count": 3,
   "metadata": {},
   "outputs": [],
   "source": [
    "\n",
    "\n",
    "def load_workbook(filepath: Path) -> openpyxl.workbook.workbook.Workbook:\n",
    "    if filepath.suffix != \".xlsx\":\n",
    "        raise ValueError(\n",
    "            f\"The inputted file is of type {filepath.suffix}. Please provide a .xlsx file.\"\n",
    "        )\n",
    "\n",
    "    try:\n",
    "        workbook = openpyxl.load_workbook(filepath)\n",
    "\n",
    "    except Exception as e:\n",
    "        raise f\"An unexpected error occurred: {e}\"\n",
    "\n",
    "    else:\n",
    "        return workbook\n",
    "\n",
    "\n",
    "def load_worksheet(\n",
    "    workbook: openpyxl.workbook.workbook.Workbook, sheet_name: str\n",
    ") -> openpyxl.worksheet.worksheet.Worksheet:\n",
    "    if sheet_name not in workbook.sheetnames:\n",
    "        raise KeyError(f\"Sheet '{sheet_name}' cannot be found in workbook.\")\n",
    "\n",
    "    else:\n",
    "        return workbook[sheet_name]\n",
    "\n",
    "\n",
    "def parse_sheet_data(worksheet: openpyxl.worksheet.worksheet.Worksheet) -> List[List]:\n",
    "    tables = []\n",
    "    current_table = []\n",
    "    for row in worksheet.iter_rows(values_only=True):\n",
    "        if all(cell is None for cell in row):\n",
    "            if current_table:\n",
    "                tables.append(current_table)\n",
    "                current_table = []\n",
    "\n",
    "        else:\n",
    "            current_table.append([r for r in row if r is not None])\n",
    "\n",
    "    if current_table:\n",
    "        tables.append(current_table)\n",
    "\n",
    "    return tables\n",
    "\n",
    "\n",
    "def parse_table_data(table: List[List]) -> dict:\n",
    "    if len(table) < 2:\n",
    "        return None\n",
    "\n",
    "    column_name, column_description = table.pop(0)\n",
    "    column_type = table.pop(0)[1]\n",
    "    encodings = {key: value for key, value in table if key is not None}\n",
    "\n",
    "    return {\n",
    "        \"column_name\": column_name,\n",
    "        \"column_description\": column_description,\n",
    "        \"column_type\": column_type,\n",
    "        \"encodings\": encodings,\n",
    "    }\n",
    "\n",
    "\n",
    "def load_question_schema(filepath: Path, sheet_name: str) -> List[dict]:\n",
    "    wb = load_workbook(filepath=filepath)\n",
    "    sheet = load_worksheet(workbook=wb, sheet_name=sheet_name)\n",
    "    processed_tables = parse_sheet_data(sheet)\n",
    "\n",
    "    return [parse_table_data(t) for t in processed_tables]"
   ]
  },
  {
   "cell_type": "code",
   "execution_count": 8,
   "metadata": {},
   "outputs": [
    {
     "ename": "AttributeError",
     "evalue": "module 'ntpath' has no attribute 'pwd'",
     "output_type": "error",
     "traceback": [
      "\u001b[1;31m---------------------------------------------------------------------------\u001b[0m",
      "\u001b[1;31mAttributeError\u001b[0m                            Traceback (most recent call last)",
      "Cell \u001b[1;32mIn[8], line 1\u001b[0m\n\u001b[1;32m----> 1\u001b[0m file_path \u001b[38;5;241m=\u001b[39m Path(\u001b[43mos\u001b[49m\u001b[38;5;241;43m.\u001b[39;49m\u001b[43mpath\u001b[49m\u001b[38;5;241;43m.\u001b[39;49m\u001b[43mpwd\u001b[49m())\u001b[38;5;241m.\u001b[39mparent\u001b[38;5;241m.\u001b[39mparent \u001b[38;5;241m/\u001b[39m \u001b[38;5;124m\"\u001b[39m\u001b[38;5;124msurvey.xlsx\u001b[39m\u001b[38;5;124m\"\u001b[39m\n\u001b[0;32m      2\u001b[0m json_output \u001b[38;5;241m=\u001b[39m load_question_schema(filepath\u001b[38;5;241m=\u001b[39mfile_path, sheet_name\u001b[38;5;241m=\u001b[39m\u001b[38;5;124m\"\u001b[39m\u001b[38;5;124mQuestions\u001b[39m\u001b[38;5;124m\"\u001b[39m)\n\u001b[0;32m      3\u001b[0m question_df \u001b[38;5;241m=\u001b[39m pd\u001b[38;5;241m.\u001b[39mDataFrame\u001b[38;5;241m.\u001b[39mfrom_records(json_output)\u001b[38;5;241m.\u001b[39mdrop(columns\u001b[38;5;241m=\u001b[39m[\u001b[38;5;124m\"\u001b[39m\u001b[38;5;124mencodings\u001b[39m\u001b[38;5;124m\"\u001b[39m])\n",
      "\u001b[1;31mAttributeError\u001b[0m: module 'ntpath' has no attribute 'pwd'"
     ]
    }
   ],
   "source": [
    "file_path = Path(os.path.cwd()).parent.parent / \"survey.xlsx\"\n",
    "json_output = load_question_schema(filepath=file_path, sheet_name=\"Questions\")\n",
    "question_df = pd.DataFrame.from_records(json_output).drop(columns=[\"encodings\"])\n",
    "question_df.head(10)"
   ]
  }
 ],
 "metadata": {
  "kernelspec": {
   "display_name": "venv",
   "language": "python",
   "name": "python3"
  },
  "language_info": {
   "codemirror_mode": {
    "name": "ipython",
    "version": 3
   },
   "file_extension": ".py",
   "mimetype": "text/x-python",
   "name": "python",
   "nbconvert_exporter": "python",
   "pygments_lexer": "ipython3",
   "version": "3.11.0"
  }
 },
 "nbformat": 4,
 "nbformat_minor": 2
}
